{
 "cells": [
  {
   "cell_type": "markdown",
   "id": "f0f4444e",
   "metadata": {},
   "source": [
    "# La Mobilière Insurance Data - Final data checks pre-uploading\n",
    "Last modified by AB\n",
    "on the 12/06/2021"
   ]
  },
  {
   "cell_type": "markdown",
   "id": "408196c9",
   "metadata": {},
   "source": [
    "This notebook performs final checks on aggregated La Mobilière data ready for upload & sharing.\n",
    "\n",
    "We performed the following checks:\n",
    "\n",
    "- All datasets present the same columns\n",
    "- Identical number of municipalities in all datasets\n",
    "- Data type as reported in paper\n",
    "- Average features always fall within corresponding confidence interval (when reported)\n",
    "- Pct are monotonically increasing \n",
    "- 0 customers implies NA for all other features (except census data) in municipality dataset\n",
    "- Check number of variables with no variation (max 5 per year- car classes and types of builds variables)\n",
    "- Check on sum of car class and type of building"
   ]
  },
  {
   "cell_type": "code",
   "execution_count": 1,
   "id": "8798cbbf",
   "metadata": {},
   "outputs": [],
   "source": [
    "import pandas as pd\n",
    "import numpy as np\n",
    "from asteval import Interpreter"
   ]
  },
  {
   "cell_type": "markdown",
   "id": "1692d771",
   "metadata": {},
   "source": [
    "### 1) All datasets presents the same columns"
   ]
  },
  {
   "cell_type": "code",
   "execution_count": 2,
   "id": "8c6a9d28",
   "metadata": {},
   "outputs": [
    {
     "name": "stdout",
     "output_type": "stream",
     "text": [
      "All correct!\n"
     ]
    }
   ],
   "source": [
    "#Municipality-level dataset:\n",
    "years=range(2010, 2019, 1)\n",
    "\n",
    "count=0\n",
    "for ind,year in enumerate(years):\n",
    "    dfAggregated = pd.read_csv('../Data/combinedData/municipality_combinedData_%d.csv'%year)\n",
    "    col_new=dfAggregated.columns\n",
    "    if ind==0:\n",
    "        col=col_new\n",
    "    if (ind>0) &  (len(list(set(list(col)) - set(list(col_new))))>0):\n",
    "        print('Error (mun)! Different set of columns between '+str(years[ind-1])+' and '+str(years[ind]))\n",
    "        break\n",
    "    else:\n",
    "        count=count+1\n",
    "    col=col_new\n",
    "\n",
    "if count==len(years):    \n",
    "    print('All correct!')"
   ]
  },
  {
   "cell_type": "code",
   "execution_count": 3,
   "id": "e2ed9ef4",
   "metadata": {},
   "outputs": [
    {
     "name": "stdout",
     "output_type": "stream",
     "text": [
      "All correct!\n"
     ]
    }
   ],
   "source": [
    "#ZIP-code-level dataset:\n",
    "years=range(2008, 2020, 1)\n",
    "\n",
    "count=0\n",
    "for ind,year in enumerate(years):\n",
    "    dfAggregated = pd.read_csv('../Data/aggregatedData/ZIP_%d.csv'%year)\n",
    "    col_new=dfAggregated.columns\n",
    "    if ind==0:\n",
    "        col=col_new\n",
    "    if (ind>0) &  (len(list(set(list(col)) - set(list(col_new))))>0):\n",
    "        print('Error (zip)! Different set of columns between '+str(years[ind-1])+' and '+str(years[ind]))\n",
    "        break\n",
    "    else:\n",
    "        count=count+1\n",
    "    col=col_new\n",
    "    \n",
    "if count==len(years):    \n",
    "    print('All correct!')"
   ]
  },
  {
   "cell_type": "markdown",
   "id": "b557ea3a",
   "metadata": {},
   "source": [
    "### 2) Identical number of municipalities"
   ]
  },
  {
   "cell_type": "code",
   "execution_count": 4,
   "id": "33bef7a3",
   "metadata": {},
   "outputs": [
    {
     "name": "stdout",
     "output_type": "stream",
     "text": [
      "All correct!\n"
     ]
    }
   ],
   "source": [
    "#Municipality-level dataset:\n",
    "years=range(2010, 2019, 1)\n",
    "\n",
    "count=0\n",
    "for ind,year in enumerate(years):\n",
    "    dfAggregated = pd.read_csv('../Data/combinedData/municipality_combinedData_%d.csv'%year)\n",
    "    row_new=len(dfAggregated)\n",
    "    if ind==0:\n",
    "        row=row_new\n",
    "    if (ind>0) &  (abs(row-row_new)>0):\n",
    "        print('Error (mun)! Different set of columns between '+str(years[ind-1])+' and '+str(years[ind]))\n",
    "        break\n",
    "    else:\n",
    "        count=count+1\n",
    "    row=row_new\n",
    "\n",
    "if count==len(years):    \n",
    "    print('All correct!')"
   ]
  },
  {
   "cell_type": "markdown",
   "id": "3c9e8364",
   "metadata": {},
   "source": [
    "### 3) Data type as reported in paper"
   ]
  },
  {
   "cell_type": "code",
   "execution_count": 5,
   "id": "4b5842e2",
   "metadata": {},
   "outputs": [],
   "source": [
    "#Dictionary of expected data type\n",
    "data_type={'unemp':'float64', 'age_mean':'float64', 'frac_own':'float64', 'frac_foreign':'float64', 'child_mean':'float64',\n",
    "          'custom':'int', 'frac_women':'float64', 'car1_custom_frac':'float64', 'car1_pr_mean':'float64', 'car1_y_pct50':'float64',\n",
    "          'car1_ccm_mean':'float64', 'car1_claim_mean':'float64', 'car1_sumcl_mean':'float64', 'car1_prem_mean':'float64',\n",
    "          'build_custom_frac':'float64', 'cl_furn_pct50':'float64', 'rooms_mean':'float64', 'build_ins_mean':'float64', \n",
    "          'build_y_pct50':'float64', 'build_claim_mean':'float64', 'build_sumcl_mean':'float64', 'build_prem_mean':'float64',\n",
    "          'BFS':'int', 'ZIP':'int', 'pop_census':'int', 'age_0_19_census': 'float64',\n",
    "          'age_20_64_census':'float64', 'age_65+_census':'float64', \n",
    "           'frac_foreign_census':'float64'}"
   ]
  },
  {
   "cell_type": "code",
   "execution_count": 6,
   "id": "944b186d",
   "metadata": {},
   "outputs": [
    {
     "name": "stdout",
     "output_type": "stream",
     "text": [
      "All correct!\n"
     ]
    }
   ],
   "source": [
    "#Municipality-level dataset:\n",
    "years=range(2010, 2019, 1)\n",
    "\n",
    "count=0\n",
    "n=0\n",
    "for ind,year in enumerate(years):\n",
    "    dfAggregated = pd.read_csv('../Data/combinedData/municipality_combinedData_%d.csv'%year)\n",
    "    for i in data_type.keys():\n",
    "        if i in dfAggregated.columns:\n",
    "            n=n+1\n",
    "            if dfAggregated[i].dtype!=data_type[i]:\n",
    "                print(dfAggregated[i].dtype)\n",
    "                print('Error (mun)! Incorrect data type for '+ i + ' in year: '+str(year))\n",
    "                break\n",
    "            else:\n",
    "                count=count+1\n",
    "\n",
    "if count==n:    \n",
    "    print('All correct!')"
   ]
  },
  {
   "cell_type": "code",
   "execution_count": 7,
   "id": "eebb2cf4",
   "metadata": {},
   "outputs": [
    {
     "name": "stdout",
     "output_type": "stream",
     "text": [
      "All correct!\n"
     ]
    }
   ],
   "source": [
    "#ZIP-code-level dataset:\n",
    "years=range(2008, 2020, 1)\n",
    "\n",
    "count=0\n",
    "n=0\n",
    "for ind,year in enumerate(years):\n",
    "    dfAggregated = pd.read_csv('../Data/aggregatedData/ZIP_%d.csv'%year)\n",
    "    for i in data_type.keys():\n",
    "        if i in dfAggregated.columns:\n",
    "            n=n+1\n",
    "            if dfAggregated[i].dtype!=data_type[i]:\n",
    "                print(dfAggregated[i].dtype)\n",
    "                print('Error (mun)! Incorrect data type for '+ i + ' in year: '+str(year))\n",
    "                break\n",
    "            else:\n",
    "                count=count+1\n",
    "\n",
    "\n",
    "if count==n:    \n",
    "    print('All correct!')"
   ]
  },
  {
   "cell_type": "markdown",
   "id": "a58e927d",
   "metadata": {},
   "source": [
    "### 4) Average features always fall within corresponding confidence interval (when reported)"
   ]
  },
  {
   "cell_type": "code",
   "execution_count": 8,
   "id": "8b8a9178",
   "metadata": {},
   "outputs": [],
   "source": [
    "#Dictionary of expected data type\n",
    "var_for_check=['age', 'child', 'car1_pr', 'car1_ccm', 'car1_claim', 'car1_sumcl', 'car1_prem', 'rooms', 'build_ins', 'build_claim', 'build_sumcl','build_prem']"
   ]
  },
  {
   "cell_type": "code",
   "execution_count": 9,
   "id": "1257ddff",
   "metadata": {
    "scrolled": true
   },
   "outputs": [
    {
     "name": "stdout",
     "output_type": "stream",
     "text": [
      "All correct!\n"
     ]
    }
   ],
   "source": [
    "#Municipality-level dataset:\n",
    "years=range(2010, 2019, 1)\n",
    "\n",
    "aeval = Interpreter()\n",
    "\n",
    "count=0\n",
    "for ind,year in enumerate(years):\n",
    "    dfAggregated = pd.read_csv('../Data/combinedData/municipality_combinedData_%d.csv'%year)\n",
    "    for i in var_for_check:\n",
    "        dfAggregated=dfAggregated[dfAggregated['custom']!=0]\n",
    "        dfAggregated['check']=dfAggregated.apply(lambda x: 0 if  (x[i+'_mean']>=aeval(x[i+'_ci95'])[0]) & (x[i+'_mean']<=aeval(x[i+'_ci95'])[1]) else 1, axis=1)\n",
    "        if dfAggregated['check'].sum()>0:\n",
    "            print('Error (mun)! Mean doesn t fall within confidence interval for var '+ i + ' in year: '+str(year))\n",
    "            break\n",
    "        else:\n",
    "            count=count+1\n",
    "\n",
    "if count==len(years)*len(var_for_check):    \n",
    "    print('All correct!')"
   ]
  },
  {
   "cell_type": "code",
   "execution_count": 10,
   "id": "7a30341a",
   "metadata": {},
   "outputs": [
    {
     "name": "stdout",
     "output_type": "stream",
     "text": [
      "All correct!\n"
     ]
    }
   ],
   "source": [
    "#ZIP-code-level dataset:\n",
    "years=range(2008, 2020, 1)\n",
    "aeval = Interpreter()\n",
    "\n",
    "count=0\n",
    "for ind,year in enumerate(years):\n",
    "    dfAggregated = pd.read_csv('../Data/aggregatedData/ZIP_%d.csv'%year)\n",
    "    for i in var_for_check:\n",
    "        dfAggregated=dfAggregated[dfAggregated['custom']!=0]\n",
    "        dfAggregated['check']=dfAggregated.apply(lambda x: 0 if  (x[i+'_mean']>=aeval(x[i+'_ci95'])[0]) & (x[i+'_mean']<=aeval(x[i+'_ci95'])[1]) else 1, axis=1)\n",
    "        if dfAggregated['check'].sum()>0:\n",
    "            print('Error (zip)! Mean doesn t fall within confidence interval for var '+ i + ' in year: '+str(year))\n",
    "            break\n",
    "        else:\n",
    "            count=count+1\n",
    "\n",
    "if count==len(years)*len(var_for_check):    \n",
    "    print('All correct!')"
   ]
  },
  {
   "cell_type": "markdown",
   "id": "ade41fc4",
   "metadata": {},
   "source": [
    "### 5) Pct monotonically increasing"
   ]
  },
  {
   "cell_type": "code",
   "execution_count": 11,
   "id": "e7210ec6",
   "metadata": {},
   "outputs": [],
   "source": [
    "#Dictionary of expected data type\n",
    "pct_var=['age', 'child', 'car1_pr', 'car1_ccm', 'car1_claim', 'car1_sumcl', 'car1_y', 'car1_prem', 'rooms', 'build_ins', 'build_claim', 'build_y','build_sumcl','build_prem']"
   ]
  },
  {
   "cell_type": "code",
   "execution_count": 12,
   "id": "1082fa71",
   "metadata": {},
   "outputs": [
    {
     "name": "stdout",
     "output_type": "stream",
     "text": [
      "All correct!\n"
     ]
    }
   ],
   "source": [
    "#Municipality-level dataset:\n",
    "years=range(2010, 2019, 1)\n",
    "q=['_pct05', '_pct25', '_pct50', '_pct75', '_pct95']\n",
    "\n",
    "count=0\n",
    "for ind,year in enumerate(years):\n",
    "    dfAggregated = pd.read_csv('../Data/combinedData/municipality_combinedData_%d.csv'%year)\n",
    "    dfAggregated=dfAggregated[dfAggregated['custom']!=0]\n",
    "    for i in var_for_check:\n",
    "        for indj,j in enumerate(q):\n",
    "            if indj>0:\n",
    "                dfAggregated=dfAggregated[dfAggregated['custom']!=0]\n",
    "                dfAggregated['check']=dfAggregated.apply(lambda x: 0 if x[i+j]>=x[i+q[indj-1]] else 1, axis=1)\n",
    "                if dfAggregated['check'].sum()>0:\n",
    "                    print('Error (mun)! Pct not monotonic for var '+ i + ' in year: '+str(year))\n",
    "                    break\n",
    "                else:\n",
    "                    count=count+1\n",
    "\n",
    "if count==len(years)*len(var_for_check)*(len(q)-1):     \n",
    "    print('All correct!')"
   ]
  },
  {
   "cell_type": "code",
   "execution_count": 13,
   "id": "a410dda9",
   "metadata": {},
   "outputs": [
    {
     "name": "stdout",
     "output_type": "stream",
     "text": [
      "All correct!\n"
     ]
    }
   ],
   "source": [
    "#ZIP-code-level dataset:\n",
    "years=range(2008, 2020, 1)\n",
    "q=['_pct05', '_pct25', '_pct50', '_pct75', '_pct95']\n",
    "\n",
    "count=0\n",
    "for ind,year in enumerate(years):\n",
    "    dfAggregated = pd.read_csv('../Data/aggregatedData/ZIP_%d.csv'%year)\n",
    "    dfAggregated=dfAggregated[dfAggregated['custom']!=0]\n",
    "    for i in var_for_check:\n",
    "        for indj,j in enumerate(q):\n",
    "            if indj>0:\n",
    "                dfAggregated=dfAggregated[dfAggregated['custom']!=0]\n",
    "                dfAggregated['check']=dfAggregated.apply(lambda x: 0 if x[i+j]>=x[i+q[indj-1]] else 1, axis=1)\n",
    "                if dfAggregated['check'].sum()>0:\n",
    "                    print('Error (zip)! Pct not monotonic for var '+ i + ' in year: '+str(year))\n",
    "                    break\n",
    "                else:\n",
    "                    count=count+1\n",
    "\n",
    "if count==len(years)*len(var_for_check)*(len(q)-1):    \n",
    "    print('All correct!')"
   ]
  },
  {
   "cell_type": "markdown",
   "id": "12c02e7b",
   "metadata": {},
   "source": [
    "### 6) 0 customers implies NA for all other features (except census data)"
   ]
  },
  {
   "cell_type": "code",
   "execution_count": 14,
   "id": "3e725520",
   "metadata": {},
   "outputs": [
    {
     "name": "stdout",
     "output_type": "stream",
     "text": [
      "All correct!\n"
     ]
    }
   ],
   "source": [
    "#Municipality-level dataset:\n",
    "years=range(2010, 2019, 1)\n",
    "\n",
    "count=0\n",
    "n=0\n",
    "for ind,year in enumerate(years):\n",
    "    n=n+1\n",
    "    dfAggregated = pd.read_csv('../Data/combinedData/municipality_combinedData_%d.csv'%year)\n",
    "    dfAggregated=dfAggregated[dfAggregated['custom']==0]\n",
    "    dfAggregated=dfAggregated.drop(columns=['custom', 'BFS', 'municipality','pop_census','pop_d_census', 'age_0_19_census',\n",
    "          'age_20_64_census', 'age_65+_census',  'frac_foreign_census'])\n",
    "    if sum(dfAggregated.isna().sum())==np.shape(dfAggregated)[0]*np.shape(dfAggregated)[1]:\n",
    "        count=count+1\n",
    "    else:            \n",
    "        print('Error (mun)! 0 custom but non-na feature values in year: '+str(year))\n",
    "        break\n",
    "\n",
    "\n",
    "if count==n:    \n",
    "    print('All correct!')"
   ]
  },
  {
   "cell_type": "markdown",
   "id": "cd19bd81",
   "metadata": {},
   "source": [
    "### 7) Check number of variables with no variation (max 5 per years- perc variables)"
   ]
  },
  {
   "cell_type": "code",
   "execution_count": 15,
   "id": "1b46473a",
   "metadata": {},
   "outputs": [
    {
     "name": "stdout",
     "output_type": "stream",
     "text": [
      "All correct!\n"
     ]
    }
   ],
   "source": [
    "#Municipality-level dataset:\n",
    "years=range(2010, 2019, 1)\n",
    "\n",
    "count=0\n",
    "for ind,year in enumerate(years):\n",
    "    check=0\n",
    "    dfAggregated = pd.read_csv('../Data/combinedData/municipality_combinedData_%d.csv'%year)\n",
    "    dfAggregated=dfAggregated[dfAggregated['custom']!=0]\n",
    "    for i in dfAggregated.columns:\n",
    "        if  dfAggregated[i].min()==dfAggregated[i].max():\n",
    "            check=check+1\n",
    "    if check>5:\n",
    "        print('Error (mun)! No variation in the data for year '+str(year))\n",
    "        break\n",
    "    else:\n",
    "        count=count+1\n",
    "\n",
    "if count==len(years):     \n",
    "    print('All correct!')"
   ]
  },
  {
   "cell_type": "code",
   "execution_count": 16,
   "id": "db222a86",
   "metadata": {},
   "outputs": [
    {
     "name": "stdout",
     "output_type": "stream",
     "text": [
      "All correct!\n"
     ]
    }
   ],
   "source": [
    "#Zip-code-level dataset:\n",
    "years=range(2008, 2020, 1)\n",
    "\n",
    "count=0\n",
    "\n",
    "for ind,year in enumerate(years):\n",
    "    check=0\n",
    "    dfAggregated = pd.read_csv('../Data/aggregatedData/ZIP_%d.csv'%year)\n",
    "    dfAggregated=dfAggregated[dfAggregated['custom']!=0]\n",
    "    for i in dfAggregated.columns:\n",
    "        if  dfAggregated[i].min()==dfAggregated[i].max():\n",
    "            check=check+1\n",
    "    if check>5:\n",
    "        print('Error (mun)! No variation in the data for year '+str(year))\n",
    "        break\n",
    "    else:\n",
    "        count=count+1\n",
    "\n",
    "if count==len(years):     \n",
    "    print('All correct!')"
   ]
  },
  {
   "cell_type": "markdown",
   "id": "f354daea",
   "metadata": {},
   "source": [
    "### 8) Check on sum of car classes and types of buildings"
   ]
  },
  {
   "cell_type": "code",
   "execution_count": 17,
   "id": "bf26e68a",
   "metadata": {},
   "outputs": [],
   "source": [
    "cars=[ 'MKL', 'KWA','VAN', 'OMK', 'UMK', 'MIC', 'CPE', 'SUV', 'LKL', 'CAB', 'ATV', 'SMA', 'ROL', 'CHO', 'GMA']\n",
    "cars=['car1_' + s + '_frac' for s in cars]\n",
    "builds=['DH','RCB','M3less','M3', 'Cond', 'HHI','AB','SB', 'CB', 'P', 'School','Sport','Manor', 'Public', 'RB']\n",
    "builds=['build_' + s + '_frac' for s in builds]"
   ]
  },
  {
   "cell_type": "code",
   "execution_count": 18,
   "id": "a72830fb",
   "metadata": {},
   "outputs": [
    {
     "name": "stdout",
     "output_type": "stream",
     "text": [
      "All correct!\n"
     ]
    }
   ],
   "source": [
    "#Municipality-level dataset:\n",
    "years=range(2010, 2019, 1)\n",
    "\n",
    "count=0\n",
    "check=0\n",
    "for ind,year in enumerate(years):\n",
    "    dfAggregated = pd.read_csv('../Data/combinedData/municipality_combinedData_%d.csv'%year)\n",
    "    dfAggregated=dfAggregated[dfAggregated['custom']!=0]\n",
    "    dfAggregated_car=dfAggregated[cars].sum(axis=1).sum()\n",
    "    dfAggregated_build=dfAggregated[cars].sum(axis=1).sum()\n",
    "    if abs(dfAggregated_car-len(dfAggregated))>0.001:\n",
    "        print('Error (mun)! cars do not sum to 100 in year '+str(year))\n",
    "        break\n",
    "    else:\n",
    "        count=count+1\n",
    "        \n",
    "    if abs(dfAggregated_build-len(dfAggregated))>0.001:\n",
    "        print('Error (mun)! build do not sum to 100 in year '+str(year))\n",
    "        break\n",
    "    else:\n",
    "        count=count+1\n",
    "\n",
    "if count==len(years)*2:     \n",
    "    print('All correct!')"
   ]
  },
  {
   "cell_type": "code",
   "execution_count": 19,
   "id": "cb6c0cda",
   "metadata": {},
   "outputs": [
    {
     "name": "stdout",
     "output_type": "stream",
     "text": [
      "All correct!\n"
     ]
    }
   ],
   "source": [
    "#Zip-code-level dataset:\n",
    "years=range(2008, 2020, 1)\n",
    "\n",
    "count=0\n",
    "check=0\n",
    "for ind,year in enumerate(years):\n",
    "    dfAggregated = pd.read_csv('../Data/aggregatedData/ZIP_%d.csv'%year)\n",
    "    dfAggregated=dfAggregated[dfAggregated['custom']!=0]\n",
    "    dfAggregated_car=dfAggregated[cars].sum(axis=1).sum()\n",
    "    dfAggregated_build=dfAggregated[cars].sum(axis=1).sum()\n",
    "    if abs(dfAggregated_car-len(dfAggregated))>0.01:\n",
    "        print('Error (mun)! cars do not sum to 100 in year '+str(year))\n",
    "        break\n",
    "    else:\n",
    "        count=count+1\n",
    "        \n",
    "    if abs(dfAggregated_build-len(dfAggregated))>0.01:\n",
    "        print('Error (zip)! build do not sum to 100 in year '+str(year))\n",
    "        break\n",
    "    else:\n",
    "        count=count+1\n",
    "\n",
    "if count==len(years)*2:     \n",
    "    print('All correct!')"
   ]
  }
 ],
 "metadata": {
  "kernelspec": {
   "display_name": "Python 3",
   "language": "python",
   "name": "python3"
  },
  "language_info": {
   "codemirror_mode": {
    "name": "ipython",
    "version": 3
   },
   "file_extension": ".py",
   "mimetype": "text/x-python",
   "name": "python",
   "nbconvert_exporter": "python",
   "pygments_lexer": "ipython3",
   "version": "3.9.2"
  }
 },
 "nbformat": 4,
 "nbformat_minor": 5
}
